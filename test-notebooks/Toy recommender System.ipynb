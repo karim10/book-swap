{
 "cells": [
  {
   "cell_type": "markdown",
   "metadata": {},
   "source": [
    "### A Toy implementation of a recommender system"
   ]
  },
  {
   "cell_type": "code",
   "execution_count": 60,
   "metadata": {
    "collapsed": true
   },
   "outputs": [],
   "source": [
    "import numpy as np"
   ]
  },
  {
   "cell_type": "code",
   "execution_count": 4,
   "metadata": {
    "collapsed": true
   },
   "outputs": [],
   "source": [
    "data = {\n",
    " 'Alan Perlis': { \n",
    " 'Artificial intelligence': 1.46, \n",
    " 'Systems programming': 5.0, \n",
    " 'Software engineering': 3.34, \n",
    " 'Databases': 2.32\n",
    " },\n",
    "'Marvin Minsky': { \n",
    " 'Artificial intelligence': 5.0, \n",
    " 'Systems programming': 2.54,\n",
    " 'Computation': 4.32, \n",
    " 'Algorithms': 2.76\n",
    " },\n",
    "'John McCarthy': { \n",
    " 'Artificial intelligence': 5.0, \n",
    " 'Programming language theory': 4.72, \n",
    " 'Systems programming': 3.25, \n",
    " 'Concurrency': 3.61, \n",
    " 'Formal methods': 3.58,\n",
    " 'Computation': 3.23, \n",
    " 'Algorithms': 3.03 \n",
    " },\n",
    "'Edsger Dijkstra': { \n",
    " 'Programming language theory': 4.34, \n",
    " 'Systems programming': 4.52,\n",
    " 'Software engineering': 4.04, \n",
    " 'Concurrency': 3.97,\n",
    " 'Formal methods': 5.0, \n",
    " 'Algorithms': 4.92 \n",
    " },\n",
    "'Donald Knuth': { \n",
    " 'Programming language theory': 4.33, \n",
    " 'Systems programming': 3.57,\n",
    " 'Computation': 4.39, \n",
    " 'Algorithms': 5.0 \n",
    " },\n",
    "'John Backus': { \n",
    " 'Programming language theory': 4.58, \n",
    " 'Systems programming': 4.43,\n",
    " 'Software engineering': 4.38, \n",
    " 'Formal methods': 2.42, \n",
    " 'Databases': 2.80 \n",
    " },\n",
    "'Robert Floyd': { \n",
    " 'Programming language theory': 4.24, \n",
    " 'Systems programming': 2.17,\n",
    " 'Concurrency': 2.92, \n",
    " 'Formal methods': 5.0, \n",
    " 'Computation': 3.18, \n",
    " 'Algorithms': 5.0 \n",
    " },\n",
    "'Tony Hoare': { \n",
    " 'Programming language theory': 4.64, \n",
    " 'Systems programming': 4.38,\n",
    " 'Software engineering': 3.62, \n",
    " 'Concurrency': 4.88,\n",
    " 'Formal methods': 4.72, \n",
    " 'Algorithms': 4.38\n",
    " },\n",
    "'Edgar Codd': { \n",
    " 'Systems programming': 4.60, \n",
    " 'Software engineering': 3.54,\n",
    " 'Concurrency': 4.28, \n",
    " 'Formal methods': 1.53, \n",
    " 'Databases': 5.0\n",
    " },\n",
    "'Dennis Ritchie': { \n",
    " 'Programming language theory': 3.45, \n",
    " 'Systems programming': 5.0,\n",
    " 'Software engineering': 4.83,\n",
    " },\n",
    "'Niklaus Wirth': { \n",
    " 'Programming language theory': 4.23, \n",
    " 'Systems programming': 4.22,\n",
    " 'Software engineering': 4.74, \n",
    " 'Formal methods': 3.83, \n",
    " 'Algorithms': 3.95\n",
    " },\n",
    "'Robin Milner': { \n",
    " 'Programming language theory': 5.0, \n",
    " 'Systems programming': 1.66,\n",
    " 'Concurrency': 4.62, \n",
    " 'Formal methods': 3.94,\n",
    " },\n",
    "'Leslie Lamport': { \n",
    " 'Programming language theory': 1.5, \n",
    " 'Systems programming': 2.76,\n",
    " 'Software engineering': 3.76, \n",
    " 'Concurrency': 5.0,\n",
    " 'Formal methods': 4.93, \n",
    " 'Algorithms': 4.63\n",
    " },\n",
    "'Michael Stonebraker': { \n",
    " 'Systems programming': 4.67, \n",
    " 'Software engineering': 3.86,\n",
    " 'Concurrency': 4.14, \n",
    " 'Databases': 5.0,\n",
    " },\n",
    "}"
   ]
  },
  {
   "cell_type": "code",
   "execution_count": 54,
   "metadata": {},
   "outputs": [],
   "source": [
    "#create a list of lists maybe not useful\n",
    "l=[]\n",
    "for i,j in enumerate(data):\n",
    "    l.append(data[j])"
   ]
  },
  {
   "cell_type": "code",
   "execution_count": 68,
   "metadata": {},
   "outputs": [],
   "source": [
    "#define similarity measure like described in here\n",
    "#https://medium.com/ai-society/a-concise-recommender-systems-tutorial-fa40d5a9c0fa\n",
    "def euclidean_similarity(person1,person2):\n",
    "    common_ranked_items= [itm for itm in data[person1] if itm in data[person2]]\n",
    "    vectorP1=np.array([data[person1][itm] for itm in common_ranked_items])\n",
    "    vectorP2=np.array([data[person2][itm] for itm in common_ranked_items])\n",
    "    simi1lartiy=1/(1+np.linalg.norm(vectorP1-vectorP2))\n",
    "    return simi1lartiy\n",
    "    \n"
   ]
  },
  {
   "cell_type": "code",
   "execution_count": 80,
   "metadata": {},
   "outputs": [
    {
     "data": {
      "text/plain": [
       "1.0"
      ]
     },
     "execution_count": 80,
     "metadata": {},
     "output_type": "execute_result"
    }
   ],
   "source": [
    "euclidean_similarity(list(data.keys())[1],list(data.keys())[1])"
   ]
  },
  {
   "cell_type": "code",
   "execution_count": 81,
   "metadata": {
    "collapsed": true
   },
   "outputs": [],
   "source": [
    "# Next step collect the people that are mostly similar to the person and multiply their ratings to new products by the similatrity value. Can normalize afterwards"
   ]
  },
  {
   "cell_type": "code",
   "execution_count": null,
   "metadata": {
    "collapsed": true
   },
   "outputs": [],
   "source": []
  }
 ],
 "metadata": {
  "kernelspec": {
   "display_name": "Python 3",
   "language": "python",
   "name": "python3"
  },
  "language_info": {
   "codemirror_mode": {
    "name": "ipython",
    "version": 3
   },
   "file_extension": ".py",
   "mimetype": "text/x-python",
   "name": "python",
   "nbconvert_exporter": "python",
   "pygments_lexer": "ipython3",
   "version": "3.6.1"
  }
 },
 "nbformat": 4,
 "nbformat_minor": 2
}
